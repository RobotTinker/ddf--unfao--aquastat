{
 "cells": [
  {
   "cell_type": "code",
   "execution_count": 1,
   "metadata": {
    "collapsed": true
   },
   "outputs": [],
   "source": [
    "import pandas as pd\n",
    "import numpy as np\n",
    "import os\n",
    "\n",
    "from ddf_utils.str import to_concept_id\n",
    "from ddf_utils.index import create_index_file"
   ]
  },
  {
   "cell_type": "code",
   "execution_count": 2,
   "metadata": {
    "collapsed": true
   },
   "outputs": [],
   "source": [
    "source = 'source/water_use.csv'"
   ]
  },
  {
   "cell_type": "code",
   "execution_count": 3,
   "metadata": {
    "collapsed": false
   },
   "outputs": [
    {
     "name": "stderr",
     "output_type": "stream",
     "text": [
      "/usr/local/lib/python3.5/site-packages/IPython/kernel/__main__.py:1: ParserWarning: Falling back to the 'python' engine because the 'c' engine does not support skip_footer; you can avoid this warning by specifying engine='python'.\n",
      "  if __name__ == '__main__':\n"
     ]
    }
   ],
   "source": [
    "data = pd.read_csv(source, skiprows=2, skip_footer=8, index_col=False)"
   ]
  },
  {
   "cell_type": "code",
   "execution_count": 4,
   "metadata": {
    "collapsed": false
   },
   "outputs": [
    {
     "data": {
      "text/html": [
       "<div>\n",
       "<table border=\"1\" class=\"dataframe\">\n",
       "  <thead>\n",
       "    <tr style=\"text-align: right;\">\n",
       "      <th></th>\n",
       "      <th>Area</th>\n",
       "      <th>Area Id</th>\n",
       "      <th>Variable Name</th>\n",
       "      <th>Variable Id</th>\n",
       "      <th>Year</th>\n",
       "      <th>Value</th>\n",
       "      <th>Symbol</th>\n",
       "      <th>Md</th>\n",
       "    </tr>\n",
       "  </thead>\n",
       "  <tbody>\n",
       "    <tr>\n",
       "      <th>9079</th>\n",
       "      <td>ZWE|Zimbabwe</td>\n",
       "      <td>181</td>\n",
       "      <td>Freshwater withdrawal as % of total renewable ...</td>\n",
       "      <td>4275</td>\n",
       "      <td>2002</td>\n",
       "      <td>21.02</td>\n",
       "      <td>NaN</td>\n",
       "      <td>NaN</td>\n",
       "    </tr>\n",
       "    <tr>\n",
       "      <th>9080</th>\n",
       "      <td>ZWE|Zimbabwe</td>\n",
       "      <td>181</td>\n",
       "      <td>Freshwater withdrawal as % of total renewable ...</td>\n",
       "      <td>4275</td>\n",
       "      <td>2007</td>\n",
       "      <td>17.85</td>\n",
       "      <td>NaN</td>\n",
       "      <td>NaN</td>\n",
       "    </tr>\n",
       "    <tr>\n",
       "      <th>9081</th>\n",
       "      <td>ZWE|Zimbabwe</td>\n",
       "      <td>181</td>\n",
       "      <td>Agricultural water withdrawal as % of total re...</td>\n",
       "      <td>4273</td>\n",
       "      <td>1987</td>\n",
       "      <td>4.82</td>\n",
       "      <td>NaN</td>\n",
       "      <td>NaN</td>\n",
       "    </tr>\n",
       "    <tr>\n",
       "      <th>9082</th>\n",
       "      <td>ZWE|Zimbabwe</td>\n",
       "      <td>181</td>\n",
       "      <td>Agricultural water withdrawal as % of total re...</td>\n",
       "      <td>4273</td>\n",
       "      <td>2002</td>\n",
       "      <td>16.59</td>\n",
       "      <td>NaN</td>\n",
       "      <td>NaN</td>\n",
       "    </tr>\n",
       "    <tr>\n",
       "      <th>9083</th>\n",
       "      <td>ZWE|Zimbabwe</td>\n",
       "      <td>181</td>\n",
       "      <td>Agricultural water withdrawal as % of total re...</td>\n",
       "      <td>4273</td>\n",
       "      <td>2007</td>\n",
       "      <td>14.65</td>\n",
       "      <td>NaN</td>\n",
       "      <td>NaN</td>\n",
       "    </tr>\n",
       "  </tbody>\n",
       "</table>\n",
       "</div>"
      ],
      "text/plain": [
       "              Area  Area Id  \\\n",
       "9079  ZWE|Zimbabwe      181   \n",
       "9080  ZWE|Zimbabwe      181   \n",
       "9081  ZWE|Zimbabwe      181   \n",
       "9082  ZWE|Zimbabwe      181   \n",
       "9083  ZWE|Zimbabwe      181   \n",
       "\n",
       "                                          Variable Name  Variable Id  Year  \\\n",
       "9079  Freshwater withdrawal as % of total renewable ...         4275  2002   \n",
       "9080  Freshwater withdrawal as % of total renewable ...         4275  2007   \n",
       "9081  Agricultural water withdrawal as % of total re...         4273  1987   \n",
       "9082  Agricultural water withdrawal as % of total re...         4273  2002   \n",
       "9083  Agricultural water withdrawal as % of total re...         4273  2007   \n",
       "\n",
       "      Value Symbol  Md  \n",
       "9079  21.02    NaN NaN  \n",
       "9080  17.85    NaN NaN  \n",
       "9081   4.82    NaN NaN  \n",
       "9082  16.59    NaN NaN  \n",
       "9083  14.65    NaN NaN  "
      ]
     },
     "execution_count": 4,
     "metadata": {},
     "output_type": "execute_result"
    }
   ],
   "source": [
    "data.tail()"
   ]
  },
  {
   "cell_type": "code",
   "execution_count": 5,
   "metadata": {
    "collapsed": false
   },
   "outputs": [
    {
     "data": {
      "text/plain": [
       "array(['Agricultural water withdrawal', 'Industrial water withdrawal',\n",
       "       'Municipal water withdrawal', 'Total water withdrawal',\n",
       "       'Irrigation water requirement',\n",
       "       'Agricultural water withdrawal as % of total water withdrawal',\n",
       "       'Industrial water withdrawal as % of total water withdrawal',\n",
       "       'Municipal water withdrawal as % of total withdrawal',\n",
       "       'Total water withdrawal per capita',\n",
       "       'Fresh surface water withdrawal (primary and secondary)',\n",
       "       'Fresh groundwater withdrawal (primary and secondary)',\n",
       "       'Total freshwater withdrawal (primary and secondary)',\n",
       "       'Freshwater withdrawal as % of total renewable water resources',\n",
       "       'Agricultural water withdrawal as % of total renewable water resources',\n",
       "       'Irrigation water withdrawal', 'Produced municipal wastewater',\n",
       "       'Desalinated water produced', 'Collected municipal wastewater',\n",
       "       'Treated municipal wastewater',\n",
       "       'Number of municipal wastewater treatment facilities',\n",
       "       'Capacity of the municipal wastewater treatment facilities',\n",
       "       'Not treated municipal wastewater',\n",
       "       'Not treated municipal wastewater discharged (secondary water)',\n",
       "       'Direct use of treated municipal wastewater for irrigation purposes',\n",
       "       'Area equipped for irrigation by direct use of treated municipal wastewater',\n",
       "       'Direct use of treated municipal wastewater',\n",
       "       'Treated municipal wastewater discharged (secondary water)',\n",
       "       'Direct use of agricultural drainage water',\n",
       "       'Direct use of not treated municipal wastewater for irrigation purposes',\n",
       "       'Area equipped for irrigation by direct use of not treated municipal wastewater'], dtype=object)"
      ]
     },
     "execution_count": 5,
     "metadata": {},
     "output_type": "execute_result"
    }
   ],
   "source": [
    "data['Variable Name'].unique()"
   ]
  },
  {
   "cell_type": "code",
   "execution_count": 6,
   "metadata": {
    "collapsed": false
   },
   "outputs": [
    {
     "data": {
      "text/plain": [
       "'agricultural_water_withdrawal_as_of_total_water_withdrawal'"
      ]
     },
     "execution_count": 6,
     "metadata": {},
     "output_type": "execute_result"
    }
   ],
   "source": [
    "to_concept_id('Agricultural water withdrawal as % of total water withdrawal')"
   ]
  },
  {
   "cell_type": "code",
   "execution_count": null,
   "metadata": {
    "collapsed": true
   },
   "outputs": [],
   "source": []
  },
  {
   "cell_type": "code",
   "execution_count": 3,
   "metadata": {
    "collapsed": true
   },
   "outputs": [],
   "source": [
    "source_dir = 'source'"
   ]
  },
  {
   "cell_type": "code",
   "execution_count": 4,
   "metadata": {
    "collapsed": false
   },
   "outputs": [],
   "source": [
    "all_data = []\n",
    "\n",
    "for f in os.listdir(source_dir):\n",
    "    if 'csv' in f:\n",
    "        path = os.path.join(source_dir, f)\n",
    "        all_data.append(pd.read_csv(path, skiprows=2, skip_footer=8, index_col=False, engine='python'))"
   ]
  },
  {
   "cell_type": "code",
   "execution_count": null,
   "metadata": {
    "collapsed": false
   },
   "outputs": [],
   "source": []
  },
  {
   "cell_type": "code",
   "execution_count": null,
   "metadata": {
    "collapsed": true
   },
   "outputs": [],
   "source": []
  },
  {
   "cell_type": "code",
   "execution_count": 5,
   "metadata": {
    "collapsed": false
   },
   "outputs": [],
   "source": [
    "all_concepts = []\n",
    "\n",
    "for df in all_data:\n",
    "    all_concepts.append(df[['Variable Name', 'Variable Id']].copy())"
   ]
  },
  {
   "cell_type": "code",
   "execution_count": 10,
   "metadata": {
    "collapsed": true
   },
   "outputs": [],
   "source": [
    "all_concepts = pd.concat(all_concepts)"
   ]
  },
  {
   "cell_type": "code",
   "execution_count": 11,
   "metadata": {
    "collapsed": true
   },
   "outputs": [],
   "source": [
    "all_concepts = all_concepts.reset_index(drop=True).drop_duplicates()"
   ]
  },
  {
   "cell_type": "code",
   "execution_count": 13,
   "metadata": {
    "collapsed": false,
    "scrolled": true
   },
   "outputs": [],
   "source": [
    "all_concepts['concept'] = all_concepts['Variable Name'].map(lambda x: to_concept_id(x))\n",
    "\n",
    "all_concepts.columns = ['name', 'variable_id', 'concept']"
   ]
  },
  {
   "cell_type": "code",
   "execution_count": 14,
   "metadata": {
    "collapsed": false
   },
   "outputs": [
    {
     "data": {
      "text/plain": [
       "81"
      ]
     },
     "execution_count": 14,
     "metadata": {},
     "output_type": "execute_result"
    }
   ],
   "source": [
    "all_concepts['concept'].map(len).max()"
   ]
  },
  {
   "cell_type": "code",
   "execution_count": 15,
   "metadata": {
    "collapsed": true
   },
   "outputs": [],
   "source": [
    "all_concepts['concept_type'] = 'measure'"
   ]
  },
  {
   "cell_type": "code",
   "execution_count": null,
   "metadata": {
    "collapsed": true
   },
   "outputs": [],
   "source": []
  },
  {
   "cell_type": "code",
   "execution_count": 16,
   "metadata": {
    "collapsed": true
   },
   "outputs": [],
   "source": [
    "all_concepts[['concept', 'concept_type', 'name', 'variable_id']].to_csv('../ddf--concepts--continuous.csv', index=False)"
   ]
  },
  {
   "cell_type": "code",
   "execution_count": null,
   "metadata": {
    "collapsed": true
   },
   "outputs": [],
   "source": []
  },
  {
   "cell_type": "code",
   "execution_count": null,
   "metadata": {
    "collapsed": true
   },
   "outputs": [],
   "source": []
  },
  {
   "cell_type": "code",
   "execution_count": 14,
   "metadata": {
    "collapsed": true
   },
   "outputs": [],
   "source": [
    "desc = pd.DataFrame([['name', 'Name', 'string'], \n",
    "                     ['year', 'Year', 'time'],\n",
    "                     ['area', 'Area', 'entity_domain'],\n",
    "                     ['area_id', 'Area Id', 'string']\n",
    "                    ], columns=['concept', 'name', 'concept_type'])"
   ]
  },
  {
   "cell_type": "code",
   "execution_count": 15,
   "metadata": {
    "collapsed": true
   },
   "outputs": [],
   "source": [
    "desc.to_csv('../ddf--concepts--descrete.csv', index=False)"
   ]
  },
  {
   "cell_type": "code",
   "execution_count": null,
   "metadata": {
    "collapsed": true
   },
   "outputs": [],
   "source": []
  },
  {
   "cell_type": "code",
   "execution_count": null,
   "metadata": {
    "collapsed": true
   },
   "outputs": [],
   "source": []
  },
  {
   "cell_type": "code",
   "execution_count": 6,
   "metadata": {
    "collapsed": false
   },
   "outputs": [],
   "source": [
    "all_area = []\n",
    "\n",
    "for df in all_data:\n",
    "    all_area.append(df[['Area', 'Area Id']].copy())"
   ]
  },
  {
   "cell_type": "code",
   "execution_count": 7,
   "metadata": {
    "collapsed": true
   },
   "outputs": [],
   "source": [
    "all_area = pd.concat(all_area)"
   ]
  },
  {
   "cell_type": "code",
   "execution_count": 8,
   "metadata": {
    "collapsed": true
   },
   "outputs": [],
   "source": [
    "all_area = all_area.drop_duplicates()"
   ]
  },
  {
   "cell_type": "code",
   "execution_count": 10,
   "metadata": {
    "collapsed": false
   },
   "outputs": [],
   "source": [
    "all_area['area'] = all_area['Area'].map(lambda x: x.split('|')[0])\n",
    "all_area['name'] = all_area['Area'].map(lambda x: x.split('|')[1])"
   ]
  },
  {
   "cell_type": "code",
   "execution_count": 11,
   "metadata": {
    "collapsed": true
   },
   "outputs": [],
   "source": [
    "all_area = all_area.drop('Area', axis=1)"
   ]
  },
  {
   "cell_type": "code",
   "execution_count": 13,
   "metadata": {
    "collapsed": false
   },
   "outputs": [],
   "source": [
    "all_area['area'] = all_area['area'].map(to_concept_id)"
   ]
  },
  {
   "cell_type": "code",
   "execution_count": 16,
   "metadata": {
    "collapsed": true
   },
   "outputs": [],
   "source": [
    "all_area.columns = ['area_id', 'area', 'name']"
   ]
  },
  {
   "cell_type": "code",
   "execution_count": 17,
   "metadata": {
    "collapsed": true
   },
   "outputs": [],
   "source": [
    "all_area[['area', 'name', 'area_id']].to_csv('../ddf--entities--area.csv', index=False)"
   ]
  },
  {
   "cell_type": "code",
   "execution_count": null,
   "metadata": {
    "collapsed": true
   },
   "outputs": [],
   "source": []
  },
  {
   "cell_type": "code",
   "execution_count": null,
   "metadata": {
    "collapsed": true
   },
   "outputs": [],
   "source": []
  },
  {
   "cell_type": "code",
   "execution_count": 21,
   "metadata": {
    "collapsed": false
   },
   "outputs": [],
   "source": [
    "for df in all_data:\n",
    "    for g, ids in df.groupby('Variable Name').groups.items():\n",
    "        df_concept = df.ix[ids].copy()\n",
    "        concept = to_concept_id(g)\n",
    "        \n",
    "        df_concept['area'] = df['Area'].map(lambda x: to_concept_id(x.split('|')[0])) \n",
    "        df_concept = df_concept.rename(columns={'Value': concept, 'Year': 'year'})\n",
    "        \n",
    "        df_concept[['area', 'year', concept]].to_csv('../ddf--datapoints--{}--by--area--year.csv'.format(concept), \n",
    "                                                     index=False)"
   ]
  },
  {
   "cell_type": "code",
   "execution_count": null,
   "metadata": {
    "collapsed": true
   },
   "outputs": [],
   "source": []
  },
  {
   "cell_type": "code",
   "execution_count": 23,
   "metadata": {
    "collapsed": false
   },
   "outputs": [
    {
     "data": {
      "text/html": [
       "<div>\n",
       "<table border=\"1\" class=\"dataframe\">\n",
       "  <thead>\n",
       "    <tr style=\"text-align: right;\">\n",
       "      <th></th>\n",
       "      <th>index</th>\n",
       "      <th>key</th>\n",
       "      <th>value</th>\n",
       "      <th>file</th>\n",
       "    </tr>\n",
       "  </thead>\n",
       "  <tbody>\n",
       "    <tr>\n",
       "      <th>0</th>\n",
       "      <td>0</td>\n",
       "      <td>concept</td>\n",
       "      <td>concept_type</td>\n",
       "      <td>ddf--concepts--continuous.csv</td>\n",
       "    </tr>\n",
       "    <tr>\n",
       "      <th>1</th>\n",
       "      <td>1</td>\n",
       "      <td>concept</td>\n",
       "      <td>name</td>\n",
       "      <td>ddf--concepts--continuous.csv</td>\n",
       "    </tr>\n",
       "    <tr>\n",
       "      <th>2</th>\n",
       "      <td>2</td>\n",
       "      <td>concept</td>\n",
       "      <td>variable_id</td>\n",
       "      <td>ddf--concepts--continuous.csv</td>\n",
       "    </tr>\n",
       "    <tr>\n",
       "      <th>3</th>\n",
       "      <td>0</td>\n",
       "      <td>concept</td>\n",
       "      <td>name</td>\n",
       "      <td>ddf--concepts--descrete.csv</td>\n",
       "    </tr>\n",
       "    <tr>\n",
       "      <th>4</th>\n",
       "      <td>1</td>\n",
       "      <td>concept</td>\n",
       "      <td>concept_type</td>\n",
       "      <td>ddf--concepts--descrete.csv</td>\n",
       "    </tr>\n",
       "    <tr>\n",
       "      <th>5</th>\n",
       "      <td>0</td>\n",
       "      <td>area,year</td>\n",
       "      <td>agricultural_water_withdrawal</td>\n",
       "      <td>ddf--datapoints--agricultural_water_withdrawal...</td>\n",
       "    </tr>\n",
       "    <tr>\n",
       "      <th>6</th>\n",
       "      <td>0</td>\n",
       "      <td>area,year</td>\n",
       "      <td>agricultural_water_withdrawal_as_of_total_rene...</td>\n",
       "      <td>ddf--datapoints--agricultural_water_withdrawal...</td>\n",
       "    </tr>\n",
       "    <tr>\n",
       "      <th>7</th>\n",
       "      <td>0</td>\n",
       "      <td>area,year</td>\n",
       "      <td>agricultural_water_withdrawal_as_of_total_wate...</td>\n",
       "      <td>ddf--datapoints--agricultural_water_withdrawal...</td>\n",
       "    </tr>\n",
       "    <tr>\n",
       "      <th>8</th>\n",
       "      <td>0</td>\n",
       "      <td>area,year</td>\n",
       "      <td>agriculture_value_added_to_gdp</td>\n",
       "      <td>ddf--datapoints--agriculture_value_added_to_gd...</td>\n",
       "    </tr>\n",
       "    <tr>\n",
       "      <th>9</th>\n",
       "      <td>0</td>\n",
       "      <td>area,year</td>\n",
       "      <td>arable_land</td>\n",
       "      <td>ddf--datapoints--arable_land--by--area--year.csv</td>\n",
       "    </tr>\n",
       "    <tr>\n",
       "      <th>10</th>\n",
       "      <td>0</td>\n",
       "      <td>area,year</td>\n",
       "      <td>area_equipped_for_full_control_irrigation_actu...</td>\n",
       "      <td>ddf--datapoints--area_equipped_for_full_contro...</td>\n",
       "    </tr>\n",
       "    <tr>\n",
       "      <th>11</th>\n",
       "      <td>0</td>\n",
       "      <td>area,year</td>\n",
       "      <td>area_equipped_for_full_control_irrigation_loca...</td>\n",
       "      <td>ddf--datapoints--area_equipped_for_full_contro...</td>\n",
       "    </tr>\n",
       "    <tr>\n",
       "      <th>12</th>\n",
       "      <td>0</td>\n",
       "      <td>area,year</td>\n",
       "      <td>area_equipped_for_full_control_irrigation_spri...</td>\n",
       "      <td>ddf--datapoints--area_equipped_for_full_contro...</td>\n",
       "    </tr>\n",
       "    <tr>\n",
       "      <th>13</th>\n",
       "      <td>0</td>\n",
       "      <td>area,year</td>\n",
       "      <td>area_equipped_for_full_control_irrigation_surf...</td>\n",
       "      <td>ddf--datapoints--area_equipped_for_full_contro...</td>\n",
       "    </tr>\n",
       "    <tr>\n",
       "      <th>14</th>\n",
       "      <td>0</td>\n",
       "      <td>area,year</td>\n",
       "      <td>area_equipped_for_full_control_irrigation_total</td>\n",
       "      <td>ddf--datapoints--area_equipped_for_full_contro...</td>\n",
       "    </tr>\n",
       "    <tr>\n",
       "      <th>15</th>\n",
       "      <td>0</td>\n",
       "      <td>area,year</td>\n",
       "      <td>area_equipped_for_irrigation_actually_irrigated</td>\n",
       "      <td>ddf--datapoints--area_equipped_for_irrigation_...</td>\n",
       "    </tr>\n",
       "    <tr>\n",
       "      <th>16</th>\n",
       "      <td>0</td>\n",
       "      <td>area,year</td>\n",
       "      <td>area_equipped_for_irrigation_by_direct_use_of_...</td>\n",
       "      <td>ddf--datapoints--area_equipped_for_irrigation_...</td>\n",
       "    </tr>\n",
       "    <tr>\n",
       "      <th>17</th>\n",
       "      <td>0</td>\n",
       "      <td>area,year</td>\n",
       "      <td>area_equipped_for_irrigation_by_direct_use_of_...</td>\n",
       "      <td>ddf--datapoints--area_equipped_for_irrigation_...</td>\n",
       "    </tr>\n",
       "    <tr>\n",
       "      <th>18</th>\n",
       "      <td>0</td>\n",
       "      <td>area,year</td>\n",
       "      <td>area_equipped_for_irrigation_by_direct_use_of_...</td>\n",
       "      <td>ddf--datapoints--area_equipped_for_irrigation_...</td>\n",
       "    </tr>\n",
       "    <tr>\n",
       "      <th>19</th>\n",
       "      <td>0</td>\n",
       "      <td>area,year</td>\n",
       "      <td>area_equipped_for_irrigation_by_groundwater</td>\n",
       "      <td>ddf--datapoints--area_equipped_for_irrigation_...</td>\n",
       "    </tr>\n",
       "    <tr>\n",
       "      <th>20</th>\n",
       "      <td>0</td>\n",
       "      <td>area,year</td>\n",
       "      <td>area_equipped_for_irrigation_by_mixed_surface_...</td>\n",
       "      <td>ddf--datapoints--area_equipped_for_irrigation_...</td>\n",
       "    </tr>\n",
       "    <tr>\n",
       "      <th>21</th>\n",
       "      <td>0</td>\n",
       "      <td>area,year</td>\n",
       "      <td>area_equipped_for_irrigation_by_surface_water</td>\n",
       "      <td>ddf--datapoints--area_equipped_for_irrigation_...</td>\n",
       "    </tr>\n",
       "    <tr>\n",
       "      <th>22</th>\n",
       "      <td>0</td>\n",
       "      <td>area,year</td>\n",
       "      <td>area_equipped_for_irrigation_drained</td>\n",
       "      <td>ddf--datapoints--area_equipped_for_irrigation_...</td>\n",
       "    </tr>\n",
       "    <tr>\n",
       "      <th>23</th>\n",
       "      <td>0</td>\n",
       "      <td>area,year</td>\n",
       "      <td>area_equipped_for_irrigation_equipped_lowland_...</td>\n",
       "      <td>ddf--datapoints--area_equipped_for_irrigation_...</td>\n",
       "    </tr>\n",
       "    <tr>\n",
       "      <th>24</th>\n",
       "      <td>0</td>\n",
       "      <td>area,year</td>\n",
       "      <td>area_equipped_for_irrigation_spate_irrigation</td>\n",
       "      <td>ddf--datapoints--area_equipped_for_irrigation_...</td>\n",
       "    </tr>\n",
       "    <tr>\n",
       "      <th>25</th>\n",
       "      <td>0</td>\n",
       "      <td>area,year</td>\n",
       "      <td>area_equipped_for_irrigation_total</td>\n",
       "      <td>ddf--datapoints--area_equipped_for_irrigation_...</td>\n",
       "    </tr>\n",
       "    <tr>\n",
       "      <th>26</th>\n",
       "      <td>0</td>\n",
       "      <td>area,year</td>\n",
       "      <td>area_equipped_for_power_irrigation_surface_wat...</td>\n",
       "      <td>ddf--datapoints--area_equipped_for_power_irrig...</td>\n",
       "    </tr>\n",
       "    <tr>\n",
       "      <th>27</th>\n",
       "      <td>0</td>\n",
       "      <td>area,year</td>\n",
       "      <td>area_salinized_by_irrigation</td>\n",
       "      <td>ddf--datapoints--area_salinized_by_irrigation-...</td>\n",
       "    </tr>\n",
       "    <tr>\n",
       "      <th>28</th>\n",
       "      <td>0</td>\n",
       "      <td>area,year</td>\n",
       "      <td>area_waterlogged_by_irrigation</td>\n",
       "      <td>ddf--datapoints--area_waterlogged_by_irrigatio...</td>\n",
       "    </tr>\n",
       "    <tr>\n",
       "      <th>29</th>\n",
       "      <td>0</td>\n",
       "      <td>area,year</td>\n",
       "      <td>capacity_of_the_municipal_wastewater_treatment...</td>\n",
       "      <td>ddf--datapoints--capacity_of_the_municipal_was...</td>\n",
       "    </tr>\n",
       "    <tr>\n",
       "      <th>...</th>\n",
       "      <td>...</td>\n",
       "      <td>...</td>\n",
       "      <td>...</td>\n",
       "      <td>...</td>\n",
       "    </tr>\n",
       "    <tr>\n",
       "      <th>152</th>\n",
       "      <td>0</td>\n",
       "      <td>area,year</td>\n",
       "      <td>surface_water_outflow_not_submitted_to_treaties</td>\n",
       "      <td>ddf--datapoints--surface_water_outflow_not_sub...</td>\n",
       "    </tr>\n",
       "    <tr>\n",
       "      <th>153</th>\n",
       "      <td>0</td>\n",
       "      <td>area,year</td>\n",
       "      <td>surface_water_outflow_secured_through_treaties</td>\n",
       "      <td>ddf--datapoints--surface_water_outflow_secured...</td>\n",
       "    </tr>\n",
       "    <tr>\n",
       "      <th>154</th>\n",
       "      <td>0</td>\n",
       "      <td>area,year</td>\n",
       "      <td>surface_water_outflow_submitted_to_treaties</td>\n",
       "      <td>ddf--datapoints--surface_water_outflow_submitt...</td>\n",
       "    </tr>\n",
       "    <tr>\n",
       "      <th>155</th>\n",
       "      <td>0</td>\n",
       "      <td>area,year</td>\n",
       "      <td>surface_water_produced_internally</td>\n",
       "      <td>ddf--datapoints--surface_water_produced_intern...</td>\n",
       "    </tr>\n",
       "    <tr>\n",
       "      <th>156</th>\n",
       "      <td>0</td>\n",
       "      <td>area,year</td>\n",
       "      <td>surface_water_total_external_renewable</td>\n",
       "      <td>ddf--datapoints--surface_water_total_external_...</td>\n",
       "    </tr>\n",
       "    <tr>\n",
       "      <th>157</th>\n",
       "      <td>0</td>\n",
       "      <td>area,year</td>\n",
       "      <td>surface_water_total_flow_of_border_rivers</td>\n",
       "      <td>ddf--datapoints--surface_water_total_flow_of_b...</td>\n",
       "    </tr>\n",
       "    <tr>\n",
       "      <th>158</th>\n",
       "      <td>0</td>\n",
       "      <td>area,year</td>\n",
       "      <td>total_agricultural_water_managed_area</td>\n",
       "      <td>ddf--datapoints--total_agricultural_water_mana...</td>\n",
       "    </tr>\n",
       "    <tr>\n",
       "      <th>159</th>\n",
       "      <td>0</td>\n",
       "      <td>area,year</td>\n",
       "      <td>total_area</td>\n",
       "      <td>ddf--datapoints--total_area--by--area--year.csv</td>\n",
       "    </tr>\n",
       "    <tr>\n",
       "      <th>160</th>\n",
       "      <td>0</td>\n",
       "      <td>area,year</td>\n",
       "      <td>total_cultivated_area_drained</td>\n",
       "      <td>ddf--datapoints--total_cultivated_area_drained...</td>\n",
       "    </tr>\n",
       "    <tr>\n",
       "      <th>161</th>\n",
       "      <td>0</td>\n",
       "      <td>area,year</td>\n",
       "      <td>total_dam_capacity</td>\n",
       "      <td>ddf--datapoints--total_dam_capacity--by--area-...</td>\n",
       "    </tr>\n",
       "    <tr>\n",
       "      <th>162</th>\n",
       "      <td>0</td>\n",
       "      <td>area,year</td>\n",
       "      <td>total_exploitable_water_resources</td>\n",
       "      <td>ddf--datapoints--total_exploitable_water_resou...</td>\n",
       "    </tr>\n",
       "    <tr>\n",
       "      <th>163</th>\n",
       "      <td>0</td>\n",
       "      <td>area,year</td>\n",
       "      <td>total_freshwater_withdrawal_primary_and_secondary</td>\n",
       "      <td>ddf--datapoints--total_freshwater_withdrawal_p...</td>\n",
       "    </tr>\n",
       "    <tr>\n",
       "      <th>164</th>\n",
       "      <td>0</td>\n",
       "      <td>area,year</td>\n",
       "      <td>total_harvested_irrigated_crop_area_full_contr...</td>\n",
       "      <td>ddf--datapoints--total_harvested_irrigated_cro...</td>\n",
       "    </tr>\n",
       "    <tr>\n",
       "      <th>165</th>\n",
       "      <td>0</td>\n",
       "      <td>area,year</td>\n",
       "      <td>total_internal_renewable_water_resources_irwr</td>\n",
       "      <td>ddf--datapoints--total_internal_renewable_wate...</td>\n",
       "    </tr>\n",
       "    <tr>\n",
       "      <th>166</th>\n",
       "      <td>0</td>\n",
       "      <td>area,year</td>\n",
       "      <td>total_internal_renewable_water_resources_per_c...</td>\n",
       "      <td>ddf--datapoints--total_internal_renewable_wate...</td>\n",
       "    </tr>\n",
       "    <tr>\n",
       "      <th>167</th>\n",
       "      <td>0</td>\n",
       "      <td>area,year</td>\n",
       "      <td>total_population</td>\n",
       "      <td>ddf--datapoints--total_population--by--area--y...</td>\n",
       "    </tr>\n",
       "    <tr>\n",
       "      <th>168</th>\n",
       "      <td>0</td>\n",
       "      <td>area,year</td>\n",
       "      <td>total_population_with_access_to_safe_drinking_...</td>\n",
       "      <td>ddf--datapoints--total_population_with_access_...</td>\n",
       "    </tr>\n",
       "    <tr>\n",
       "      <th>169</th>\n",
       "      <td>0</td>\n",
       "      <td>area,year</td>\n",
       "      <td>total_renewable_groundwater</td>\n",
       "      <td>ddf--datapoints--total_renewable_groundwater--...</td>\n",
       "    </tr>\n",
       "    <tr>\n",
       "      <th>170</th>\n",
       "      <td>0</td>\n",
       "      <td>area,year</td>\n",
       "      <td>total_renewable_surface_water</td>\n",
       "      <td>ddf--datapoints--total_renewable_surface_water...</td>\n",
       "    </tr>\n",
       "    <tr>\n",
       "      <th>171</th>\n",
       "      <td>0</td>\n",
       "      <td>area,year</td>\n",
       "      <td>total_renewable_water_resources</td>\n",
       "      <td>ddf--datapoints--total_renewable_water_resourc...</td>\n",
       "    </tr>\n",
       "    <tr>\n",
       "      <th>172</th>\n",
       "      <td>0</td>\n",
       "      <td>area,year</td>\n",
       "      <td>total_renewable_water_resources_per_capita</td>\n",
       "      <td>ddf--datapoints--total_renewable_water_resourc...</td>\n",
       "    </tr>\n",
       "    <tr>\n",
       "      <th>173</th>\n",
       "      <td>0</td>\n",
       "      <td>area,year</td>\n",
       "      <td>total_water_withdrawal</td>\n",
       "      <td>ddf--datapoints--total_water_withdrawal--by--a...</td>\n",
       "    </tr>\n",
       "    <tr>\n",
       "      <th>174</th>\n",
       "      <td>0</td>\n",
       "      <td>area,year</td>\n",
       "      <td>total_water_withdrawal_per_capita</td>\n",
       "      <td>ddf--datapoints--total_water_withdrawal_per_ca...</td>\n",
       "    </tr>\n",
       "    <tr>\n",
       "      <th>175</th>\n",
       "      <td>0</td>\n",
       "      <td>area,year</td>\n",
       "      <td>treated_municipal_wastewater</td>\n",
       "      <td>ddf--datapoints--treated_municipal_wastewater-...</td>\n",
       "    </tr>\n",
       "    <tr>\n",
       "      <th>176</th>\n",
       "      <td>0</td>\n",
       "      <td>area,year</td>\n",
       "      <td>treated_municipal_wastewater_discharged_second...</td>\n",
       "      <td>ddf--datapoints--treated_municipal_wastewater_...</td>\n",
       "    </tr>\n",
       "    <tr>\n",
       "      <th>177</th>\n",
       "      <td>0</td>\n",
       "      <td>area,year</td>\n",
       "      <td>urban_population</td>\n",
       "      <td>ddf--datapoints--urban_population--by--area--y...</td>\n",
       "    </tr>\n",
       "    <tr>\n",
       "      <th>178</th>\n",
       "      <td>0</td>\n",
       "      <td>area,year</td>\n",
       "      <td>urban_population_with_access_to_safe_drinking_...</td>\n",
       "      <td>ddf--datapoints--urban_population_with_access_...</td>\n",
       "    </tr>\n",
       "    <tr>\n",
       "      <th>179</th>\n",
       "      <td>0</td>\n",
       "      <td>area,year</td>\n",
       "      <td>water_resources_total_external_renewable</td>\n",
       "      <td>ddf--datapoints--water_resources_total_externa...</td>\n",
       "    </tr>\n",
       "    <tr>\n",
       "      <th>180</th>\n",
       "      <td>0</td>\n",
       "      <td>area</td>\n",
       "      <td>name</td>\n",
       "      <td>ddf--entities--area.csv</td>\n",
       "    </tr>\n",
       "    <tr>\n",
       "      <th>181</th>\n",
       "      <td>1</td>\n",
       "      <td>area</td>\n",
       "      <td>area_id</td>\n",
       "      <td>ddf--entities--area.csv</td>\n",
       "    </tr>\n",
       "  </tbody>\n",
       "</table>\n",
       "<p>182 rows × 4 columns</p>\n",
       "</div>"
      ],
      "text/plain": [
       "     index        key                                              value  \\\n",
       "0        0    concept                                       concept_type   \n",
       "1        1    concept                                               name   \n",
       "2        2    concept                                        variable_id   \n",
       "3        0    concept                                               name   \n",
       "4        1    concept                                       concept_type   \n",
       "5        0  area,year                      agricultural_water_withdrawal   \n",
       "6        0  area,year  agricultural_water_withdrawal_as_of_total_rene...   \n",
       "7        0  area,year  agricultural_water_withdrawal_as_of_total_wate...   \n",
       "8        0  area,year                     agriculture_value_added_to_gdp   \n",
       "9        0  area,year                                        arable_land   \n",
       "10       0  area,year  area_equipped_for_full_control_irrigation_actu...   \n",
       "11       0  area,year  area_equipped_for_full_control_irrigation_loca...   \n",
       "12       0  area,year  area_equipped_for_full_control_irrigation_spri...   \n",
       "13       0  area,year  area_equipped_for_full_control_irrigation_surf...   \n",
       "14       0  area,year    area_equipped_for_full_control_irrigation_total   \n",
       "15       0  area,year    area_equipped_for_irrigation_actually_irrigated   \n",
       "16       0  area,year  area_equipped_for_irrigation_by_direct_use_of_...   \n",
       "17       0  area,year  area_equipped_for_irrigation_by_direct_use_of_...   \n",
       "18       0  area,year  area_equipped_for_irrigation_by_direct_use_of_...   \n",
       "19       0  area,year        area_equipped_for_irrigation_by_groundwater   \n",
       "20       0  area,year  area_equipped_for_irrigation_by_mixed_surface_...   \n",
       "21       0  area,year      area_equipped_for_irrigation_by_surface_water   \n",
       "22       0  area,year               area_equipped_for_irrigation_drained   \n",
       "23       0  area,year  area_equipped_for_irrigation_equipped_lowland_...   \n",
       "24       0  area,year      area_equipped_for_irrigation_spate_irrigation   \n",
       "25       0  area,year                 area_equipped_for_irrigation_total   \n",
       "26       0  area,year  area_equipped_for_power_irrigation_surface_wat...   \n",
       "27       0  area,year                       area_salinized_by_irrigation   \n",
       "28       0  area,year                     area_waterlogged_by_irrigation   \n",
       "29       0  area,year  capacity_of_the_municipal_wastewater_treatment...   \n",
       "..     ...        ...                                                ...   \n",
       "152      0  area,year    surface_water_outflow_not_submitted_to_treaties   \n",
       "153      0  area,year     surface_water_outflow_secured_through_treaties   \n",
       "154      0  area,year        surface_water_outflow_submitted_to_treaties   \n",
       "155      0  area,year                  surface_water_produced_internally   \n",
       "156      0  area,year             surface_water_total_external_renewable   \n",
       "157      0  area,year          surface_water_total_flow_of_border_rivers   \n",
       "158      0  area,year              total_agricultural_water_managed_area   \n",
       "159      0  area,year                                         total_area   \n",
       "160      0  area,year                      total_cultivated_area_drained   \n",
       "161      0  area,year                                 total_dam_capacity   \n",
       "162      0  area,year                  total_exploitable_water_resources   \n",
       "163      0  area,year  total_freshwater_withdrawal_primary_and_secondary   \n",
       "164      0  area,year  total_harvested_irrigated_crop_area_full_contr...   \n",
       "165      0  area,year      total_internal_renewable_water_resources_irwr   \n",
       "166      0  area,year  total_internal_renewable_water_resources_per_c...   \n",
       "167      0  area,year                                   total_population   \n",
       "168      0  area,year  total_population_with_access_to_safe_drinking_...   \n",
       "169      0  area,year                        total_renewable_groundwater   \n",
       "170      0  area,year                      total_renewable_surface_water   \n",
       "171      0  area,year                    total_renewable_water_resources   \n",
       "172      0  area,year         total_renewable_water_resources_per_capita   \n",
       "173      0  area,year                             total_water_withdrawal   \n",
       "174      0  area,year                  total_water_withdrawal_per_capita   \n",
       "175      0  area,year                       treated_municipal_wastewater   \n",
       "176      0  area,year  treated_municipal_wastewater_discharged_second...   \n",
       "177      0  area,year                                   urban_population   \n",
       "178      0  area,year  urban_population_with_access_to_safe_drinking_...   \n",
       "179      0  area,year           water_resources_total_external_renewable   \n",
       "180      0       area                                               name   \n",
       "181      1       area                                            area_id   \n",
       "\n",
       "                                                  file  \n",
       "0                        ddf--concepts--continuous.csv  \n",
       "1                        ddf--concepts--continuous.csv  \n",
       "2                        ddf--concepts--continuous.csv  \n",
       "3                          ddf--concepts--descrete.csv  \n",
       "4                          ddf--concepts--descrete.csv  \n",
       "5    ddf--datapoints--agricultural_water_withdrawal...  \n",
       "6    ddf--datapoints--agricultural_water_withdrawal...  \n",
       "7    ddf--datapoints--agricultural_water_withdrawal...  \n",
       "8    ddf--datapoints--agriculture_value_added_to_gd...  \n",
       "9     ddf--datapoints--arable_land--by--area--year.csv  \n",
       "10   ddf--datapoints--area_equipped_for_full_contro...  \n",
       "11   ddf--datapoints--area_equipped_for_full_contro...  \n",
       "12   ddf--datapoints--area_equipped_for_full_contro...  \n",
       "13   ddf--datapoints--area_equipped_for_full_contro...  \n",
       "14   ddf--datapoints--area_equipped_for_full_contro...  \n",
       "15   ddf--datapoints--area_equipped_for_irrigation_...  \n",
       "16   ddf--datapoints--area_equipped_for_irrigation_...  \n",
       "17   ddf--datapoints--area_equipped_for_irrigation_...  \n",
       "18   ddf--datapoints--area_equipped_for_irrigation_...  \n",
       "19   ddf--datapoints--area_equipped_for_irrigation_...  \n",
       "20   ddf--datapoints--area_equipped_for_irrigation_...  \n",
       "21   ddf--datapoints--area_equipped_for_irrigation_...  \n",
       "22   ddf--datapoints--area_equipped_for_irrigation_...  \n",
       "23   ddf--datapoints--area_equipped_for_irrigation_...  \n",
       "24   ddf--datapoints--area_equipped_for_irrigation_...  \n",
       "25   ddf--datapoints--area_equipped_for_irrigation_...  \n",
       "26   ddf--datapoints--area_equipped_for_power_irrig...  \n",
       "27   ddf--datapoints--area_salinized_by_irrigation-...  \n",
       "28   ddf--datapoints--area_waterlogged_by_irrigatio...  \n",
       "29   ddf--datapoints--capacity_of_the_municipal_was...  \n",
       "..                                                 ...  \n",
       "152  ddf--datapoints--surface_water_outflow_not_sub...  \n",
       "153  ddf--datapoints--surface_water_outflow_secured...  \n",
       "154  ddf--datapoints--surface_water_outflow_submitt...  \n",
       "155  ddf--datapoints--surface_water_produced_intern...  \n",
       "156  ddf--datapoints--surface_water_total_external_...  \n",
       "157  ddf--datapoints--surface_water_total_flow_of_b...  \n",
       "158  ddf--datapoints--total_agricultural_water_mana...  \n",
       "159    ddf--datapoints--total_area--by--area--year.csv  \n",
       "160  ddf--datapoints--total_cultivated_area_drained...  \n",
       "161  ddf--datapoints--total_dam_capacity--by--area-...  \n",
       "162  ddf--datapoints--total_exploitable_water_resou...  \n",
       "163  ddf--datapoints--total_freshwater_withdrawal_p...  \n",
       "164  ddf--datapoints--total_harvested_irrigated_cro...  \n",
       "165  ddf--datapoints--total_internal_renewable_wate...  \n",
       "166  ddf--datapoints--total_internal_renewable_wate...  \n",
       "167  ddf--datapoints--total_population--by--area--y...  \n",
       "168  ddf--datapoints--total_population_with_access_...  \n",
       "169  ddf--datapoints--total_renewable_groundwater--...  \n",
       "170  ddf--datapoints--total_renewable_surface_water...  \n",
       "171  ddf--datapoints--total_renewable_water_resourc...  \n",
       "172  ddf--datapoints--total_renewable_water_resourc...  \n",
       "173  ddf--datapoints--total_water_withdrawal--by--a...  \n",
       "174  ddf--datapoints--total_water_withdrawal_per_ca...  \n",
       "175  ddf--datapoints--treated_municipal_wastewater-...  \n",
       "176  ddf--datapoints--treated_municipal_wastewater_...  \n",
       "177  ddf--datapoints--urban_population--by--area--y...  \n",
       "178  ddf--datapoints--urban_population_with_access_...  \n",
       "179  ddf--datapoints--water_resources_total_externa...  \n",
       "180                            ddf--entities--area.csv  \n",
       "181                            ddf--entities--area.csv  \n",
       "\n",
       "[182 rows x 4 columns]"
      ]
     },
     "execution_count": 23,
     "metadata": {},
     "output_type": "execute_result"
    }
   ],
   "source": [
    "create_index_file('../')"
   ]
  },
  {
   "cell_type": "code",
   "execution_count": null,
   "metadata": {
    "collapsed": true
   },
   "outputs": [],
   "source": []
  },
  {
   "cell_type": "code",
   "execution_count": null,
   "metadata": {
    "collapsed": true
   },
   "outputs": [],
   "source": []
  },
  {
   "cell_type": "code",
   "execution_count": null,
   "metadata": {
    "collapsed": true
   },
   "outputs": [],
   "source": []
  }
 ],
 "metadata": {
  "kernelspec": {
   "display_name": "Python 3",
   "language": "python",
   "name": "python3"
  },
  "language_info": {
   "codemirror_mode": {
    "name": "ipython",
    "version": 3
   },
   "file_extension": ".py",
   "mimetype": "text/x-python",
   "name": "python",
   "nbconvert_exporter": "python",
   "pygments_lexer": "ipython3",
   "version": "3.5.1"
  }
 },
 "nbformat": 4,
 "nbformat_minor": 0
}
